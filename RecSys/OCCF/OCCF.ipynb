{
 "cells": [
  {
   "cell_type": "code",
   "execution_count": 4,
   "metadata": {},
   "outputs": [],
   "source": [
    "import matplotlib.pyplot as plt\n",
    "import numpy as np\n",
    "import pandas as pd\n",
    "import copy\n",
    "import sys\n",
    "from sklearn.model_selection import train_test_split\n",
    "import os\n",
    "\n",
    "file_path = os.path.dirname(os.getcwd())\n",
    "\n",
    "def load_data(file_path=file_path+'/u.data'):\n",
    "    prefer = []\n",
    "    for line in open(file_path, 'r'):\n",
    "        (userid, movieid, rating, ts) = line.split('\\t')\n",
    "        uid = int(userid)\n",
    "        mid = int(movieid)\n",
    "        rat = float(rating)\n",
    "        prefer.append([uid, mid, rat])\n",
    "    data = np.array(prefer)\n",
    "    return data\n",
    "\n",
    "ratings = load_data()\n",
    "df = pd.DataFrame(ratings, columns=['user', 'item', 'rating'])"
   ]
  },
  {
   "cell_type": "code",
   "execution_count": 6,
   "metadata": {},
   "outputs": [
    {
     "name": "stdout",
     "output_type": "stream",
     "text": [
      "Train DataFrame:\n",
      "(79619, 3)\n",
      "Test DataFrame:\n",
      "(20381, 3)\n"
     ]
    }
   ],
   "source": [
    "# Train Test Split for each user\n",
    "data = df\n",
    "user_set = data.groupby('user').groups.values()\n",
    "\n",
    "# 각 user 그룹의 데이터를 80:20 비율로 분할하여 train과 test indices 구성\n",
    "train_indices = []\n",
    "test_indices = []\n",
    "for i, indices in enumerate(user_set):\n",
    "    train_group_indices, test_group_indices = train_test_split(indices, test_size=0.2, random_state=42)\n",
    "    train_indices.extend(train_group_indices)\n",
    "    test_indices.extend(test_group_indices)\n",
    "\n",
    "# train_df와 test_df 생성\n",
    "train_df = data.loc[train_indices]\n",
    "test_df = data.loc[test_indices]\n",
    "\n",
    "print(\"Train DataFrame:\")\n",
    "print(train_df.shape)\n",
    "print(\"Test DataFrame:\")\n",
    "print(test_df.shape)"
   ]
  },
  {
   "cell_type": "code",
   "execution_count": 36,
   "metadata": {},
   "outputs": [],
   "source": [
    "# parameters\n",
    "lambda_ = 150\n",
    "alpha_ = 40\n",
    "epsilon_ = 10**(-8)\n",
    "n_factor = 100\n",
    "\n",
    "# R matrix\n",
    "def create_R_matrix(df, train_set):\n",
    "    # 모든 고유한 user와 item을 추출\n",
    "    all_users = np.unique((df['user'].unique()))\n",
    "    all_items = np.unique((df['item'].unique()))\n",
    "\n",
    "    # 행렬 초기화\n",
    "    ratings_matrix = pd.DataFrame(0, index=all_users, columns=all_items)\n",
    "\n",
    "    # train set에 있는 데이터로 행렬 채우기\n",
    "    for _, row in train_set.iterrows():\n",
    "        user = row['user']\n",
    "        item = row['item']\n",
    "        ratings = row['rating']\n",
    "        ratings_matrix.loc[user, item] = ratings\n",
    "\n",
    "    return np.array(ratings_matrix)\n",
    "\n",
    "# P matrix\n",
    "def create_P_matrix(R_matrix):\n",
    "    P_matrix = copy.deepcopy(R_matrix)\n",
    "    P_matrix[R_matrix>0] = 1\n",
    "    return P_matrix\n",
    "\n",
    "# C matrix\n",
    "def create_C_matrix(R_matrix):\n",
    "    C_matrix = 1 + alpha_*np.log(1+R_matrix/epsilon_)\n",
    "    C_matrix = np.array(C_matrix)\n",
    "    return C_matrix"
   ]
  },
  {
   "cell_type": "code",
   "execution_count": 37,
   "metadata": {},
   "outputs": [],
   "source": [
    "R_matrix = create_R_matrix(data, train_df)\n",
    "C_matrix = create_C_matrix(R_matrix)\n",
    "P_matrix = create_P_matrix(R_matrix)\n",
    "\n",
    "m = R_matrix.shape[0]\n",
    "n = R_matrix.shape[1]"
   ]
  },
  {
   "cell_type": "code",
   "execution_count": 40,
   "metadata": {},
   "outputs": [
    {
     "data": {
      "text/plain": [
       "array([[5, 0, 4, ..., 0, 0, 0],\n",
       "       [0, 0, 0, ..., 0, 0, 0],\n",
       "       [0, 0, 0, ..., 0, 0, 0],\n",
       "       ...,\n",
       "       [5, 0, 0, ..., 0, 0, 0],\n",
       "       [0, 0, 0, ..., 0, 0, 0],\n",
       "       [0, 5, 0, ..., 0, 0, 0]], dtype=int64)"
      ]
     },
     "execution_count": 40,
     "metadata": {},
     "output_type": "execute_result"
    }
   ],
   "source": [
    "R_matrix"
   ]
  },
  {
   "cell_type": "code",
   "execution_count": 42,
   "metadata": {},
   "outputs": [
    {
     "data": {
      "text/plain": [
       "array([[802.20474634,   1.        , 793.2790043 , ...,   1.        ,\n",
       "          1.        ,   1.        ],\n",
       "       [  1.        ,   1.        ,   1.        , ...,   1.        ,\n",
       "          1.        ,   1.        ],\n",
       "       [  1.        ,   1.        ,   1.        , ...,   1.        ,\n",
       "          1.        ,   1.        ],\n",
       "       ...,\n",
       "       [802.20474634,   1.        ,   1.        , ...,   1.        ,\n",
       "          1.        ,   1.        ],\n",
       "       [  1.        ,   1.        ,   1.        , ...,   1.        ,\n",
       "          1.        ,   1.        ],\n",
       "       [  1.        , 802.20474634,   1.        , ...,   1.        ,\n",
       "          1.        ,   1.        ]])"
      ]
     },
     "execution_count": 42,
     "metadata": {},
     "output_type": "execute_result"
    }
   ],
   "source": [
    "C_matrix"
   ]
  },
  {
   "cell_type": "code",
   "execution_count": 41,
   "metadata": {},
   "outputs": [
    {
     "data": {
      "text/plain": [
       "array([[1, 0, 1, ..., 0, 0, 0],\n",
       "       [0, 0, 0, ..., 0, 0, 0],\n",
       "       [0, 0, 0, ..., 0, 0, 0],\n",
       "       ...,\n",
       "       [1, 0, 0, ..., 0, 0, 0],\n",
       "       [0, 0, 0, ..., 0, 0, 0],\n",
       "       [0, 1, 0, ..., 0, 0, 0]], dtype=int64)"
      ]
     },
     "execution_count": 41,
     "metadata": {},
     "output_type": "execute_result"
    }
   ],
   "source": [
    "P_matrix"
   ]
  },
  {
   "cell_type": "code",
   "execution_count": 45,
   "metadata": {},
   "outputs": [],
   "source": [
    "class OCCF():\n",
    "    def __init__(self, R, C, P, m, n, n_itr=10, num_factor=10, lamdba_=150):\n",
    "        self.R = R\n",
    "        self.C = C\n",
    "        self.P = P\n",
    "        self.m = m\n",
    "        self.n = n\n",
    "        self.n_itr = n_itr\n",
    "        self.num_factor = num_factor\n",
    "        self.X = np.random.rand(m, num_factor) * 0.01\n",
    "        self.Y = np.random.rand(n, num_factor) * 0.01\n",
    "        self.lambda_ = lamdba_\n",
    "\n",
    "\n",
    "    def loss_function(self, pred):\n",
    "        predict_error = np.square(self.P-pred)\n",
    "        confidence_error = np.sum(self.C*predict_error)\n",
    "        regularization_error = lambda_*(np.sum(np.square(self.X))+np.sum(np.square(self.Y)))\n",
    "        total_loss = confidence_error + regularization_error\n",
    "        return np.sum(predict_error), confidence_error, regularization_error, total_loss\n",
    "    \n",
    "    def user_optimization(self):\n",
    "        yT = np.transpose(self.Y)\n",
    "        yTy = np.matmul(yT, self.Y)\n",
    "        for user in range(self.m):\n",
    "            Cu = np.diag(self.C[user])\n",
    "            yT_Cu_y = yTy + np.matmul(np.matmul(yT, Cu - np.identity(self.n)),self.Y)\n",
    "            lambda_I = lambda_ * np.identity(self.num_factor)\n",
    "            yT_Cu_pu = np.matmul(np.matmul(yT,Cu), np.transpose(self.P[user]))\n",
    "            self.X[user] = np.linalg.solve(yT_Cu_y+lambda_I, yT_Cu_pu)\n",
    "            \n",
    "    def item_optimization(self):\n",
    "        xT = np.transpose(self.X)\n",
    "        xTx = np.matmul(xT, self.X)\n",
    "        for item in range(self.n):\n",
    "            Ci = np.diag(self.C[:,item])\n",
    "            xT_Ci_x = xTx + np.matmul(np.matmul(xT, Ci - np.identity(self.m)),self.X)\n",
    "            lambda_I = lambda_ * np.identity(self.num_factor)\n",
    "            xT_Ci_pi = np.matmul(np.matmul(xT,Ci), np.transpose(self.P[:,item]))\n",
    "            self.Y[item] = np.linalg.solve(xT_Ci_x+lambda_I, xT_Ci_pi)\n",
    "            \n",
    "    def fit(self):\n",
    "        predict_errors = []\n",
    "        confidence_errors = []\n",
    "        regularization_list = []\n",
    "        total_losses = []\n",
    "\n",
    "        for i in range(self.n_itr):\n",
    "            print(f'processing on {i+1}th iteration')\n",
    "            if i != 0:\n",
    "                self.user_optimization()\n",
    "                self.item_optimization()\n",
    "\n",
    "            predict = np.matmul(self.X, np.transpose(self.Y))\n",
    "\n",
    "            predict_error, confidence_error, regularization, total_loss = self.loss_function(predict)\n",
    "\n",
    "            predict_errors.append(predict_error)\n",
    "            confidence_errors.append(confidence_error)\n",
    "            regularization_list.append(regularization)\n",
    "            total_losses.append(total_loss)\n",
    "\n",
    "            print(f'{i+1}th iteration is done')\n",
    "\n",
    "        fin_predict = np.matmul(self.X, np.transpose(self.Y))\n",
    "        print('final predict')\n",
    "        print([fin_predict])\n",
    "        return fin_predict, predict_errors, confidence_errors, regularization_list, total_losses"
   ]
  },
  {
   "cell_type": "code",
   "execution_count": 46,
   "metadata": {},
   "outputs": [
    {
     "name": "stdout",
     "output_type": "stream",
     "text": [
      "processing on 1th iteration\n",
      "1th iteration is done\n",
      "processing on 2th iteration\n",
      "2th iteration is done\n",
      "processing on 3th iteration\n",
      "3th iteration is done\n",
      "processing on 4th iteration\n",
      "4th iteration is done\n",
      "processing on 5th iteration\n",
      "5th iteration is done\n",
      "processing on 6th iteration\n",
      "6th iteration is done\n",
      "processing on 7th iteration\n",
      "7th iteration is done\n",
      "processing on 8th iteration\n",
      "8th iteration is done\n",
      "processing on 9th iteration\n",
      "9th iteration is done\n",
      "processing on 10th iteration\n",
      "10th iteration is done\n",
      "final predict\n",
      "[array([[ 1.00712214,  1.00743429,  0.92812882, ...,  0.        ,\n",
      "         0.76972593,  0.27071647],\n",
      "       [ 1.00034376,  0.13437041,  0.80864991, ...,  0.        ,\n",
      "         0.11073834,  0.1076139 ],\n",
      "       [ 0.76241958,  0.51810019,  0.49758783, ...,  0.        ,\n",
      "         0.20394076,  0.09170298],\n",
      "       ...,\n",
      "       [ 0.99239825,  0.30625759,  0.68970324, ...,  0.        ,\n",
      "        -0.08381644, -0.08681954],\n",
      "       [ 0.90869958,  0.95133056,  0.60431218, ...,  0.        ,\n",
      "        -0.00103704,  0.1538752 ],\n",
      "       [ 1.00578551,  1.00378727,  0.97315148, ...,  0.        ,\n",
      "         0.32822093,  0.11298142]])]\n"
     ]
    }
   ],
   "source": [
    "OCCF = OCCF(R_matrix, C_matrix, P_matrix, m, n)\n",
    "_,_,_,_,total_losses = OCCF.fit()\n"
   ]
  },
  {
   "cell_type": "code",
   "execution_count": 70,
   "metadata": {},
   "outputs": [],
   "source": [
    "import numpy as np\n",
    "\n",
    "def calculate_epr(pred, user_item_matrix):\n",
    "\n",
    "    num_users, num_items = user_item_matrix.shape\n",
    "    percentile_rankings = []\n",
    "\n",
    "    for user in range(num_users):\n",
    "        # Get model predictions for this user\n",
    "        predictions = pred\n",
    "        # Identify interacted and non-interacted items\n",
    "        interacted_items = np.where(user_item_matrix[user] == 1)[0]\n",
    "        non_interacted_items = np.where(user_item_matrix[user] == 0)[0]\n",
    "\n",
    "        # Calculate percentile ranking for each interacted item\n",
    "        for item in interacted_items:\n",
    "            # Count how many non-interacted items are ranked lower\n",
    "            # In other words, for a good model, we expect interacted (positive) items to have higher scores than non-interacted ones.\n",
    "            # prediction user x item matrix 가 잘 예측 했는지 평가하려면 기존 user x item 에서의 positive item 이 prediction score에서 더 높은 점수를 가지고 있어야함\n",
    "            num_lower = np.sum(predictions[user][non_interacted_items] < predictions[user][item])\n",
    "            # 하지만 ranking이 낮을수록 more recommended 이기 때문에\n",
    "            percentile_ranking = 1 - num_lower / len(non_interacted_items)\n",
    "            percentile_rankings.append(percentile_ranking)\n",
    "\n",
    "    # Average the percentile rankings\n",
    "    average_epr = np.mean(percentile_rankings)\n",
    "    return average_epr\n"
   ]
  },
  {
   "cell_type": "code",
   "execution_count": 59,
   "metadata": {},
   "outputs": [
    {
     "data": {
      "text/plain": [
       "array([[0, 1, 0, ..., 0, 0, 0],\n",
       "       [1, 0, 0, ..., 0, 0, 0],\n",
       "       [0, 0, 0, ..., 0, 0, 0],\n",
       "       ...,\n",
       "       [0, 0, 0, ..., 0, 0, 0],\n",
       "       [0, 0, 0, ..., 0, 0, 0],\n",
       "       [0, 0, 0, ..., 0, 0, 0]], dtype=int64)"
      ]
     },
     "execution_count": 59,
     "metadata": {},
     "output_type": "execute_result"
    }
   ],
   "source": [
    "test_user_item_matrix = create_R_matrix(data, test_df)\n",
    "test_user_item_matrix[test_user_item_matrix>0] = 1\n",
    "test_user_item_matrix"
   ]
  },
  {
   "cell_type": "code",
   "execution_count": 72,
   "metadata": {},
   "outputs": [
    {
     "data": {
      "text/plain": [
       "array([[ 1.00712214,  1.00743429,  0.92812882, ...,  0.        ,\n",
       "         0.76972593,  0.27071647],\n",
       "       [ 1.00034376,  0.13437041,  0.80864991, ...,  0.        ,\n",
       "         0.11073834,  0.1076139 ],\n",
       "       [ 0.76241958,  0.51810019,  0.49758783, ...,  0.        ,\n",
       "         0.20394076,  0.09170298],\n",
       "       ...,\n",
       "       [ 0.99239825,  0.30625759,  0.68970324, ...,  0.        ,\n",
       "        -0.08381644, -0.08681954],\n",
       "       [ 0.90869958,  0.95133056,  0.60431218, ...,  0.        ,\n",
       "        -0.00103704,  0.1538752 ],\n",
       "       [ 1.00578551,  1.00378727,  0.97315148, ...,  0.        ,\n",
       "         0.32822093,  0.11298142]])"
      ]
     },
     "execution_count": 72,
     "metadata": {},
     "output_type": "execute_result"
    }
   ],
   "source": [
    "pred = np.matmul(OCCF.X, np.transpose(OCCF.Y))\n",
    "pred"
   ]
  },
  {
   "cell_type": "code",
   "execution_count": 71,
   "metadata": {},
   "outputs": [
    {
     "data": {
      "text/plain": [
       "0.17043531630261569"
      ]
     },
     "execution_count": 71,
     "metadata": {},
     "output_type": "execute_result"
    }
   ],
   "source": [
    "calculate_epr(pred, test_user_item_matrix)"
   ]
  },
  {
   "cell_type": "code",
   "execution_count": 73,
   "metadata": {},
   "outputs": [
    {
     "data": {
      "text/plain": [
       "array([ 889, 1482,  354,  348,  308], dtype=int64)"
      ]
     },
     "execution_count": 73,
     "metadata": {},
     "output_type": "execute_result"
    }
   ],
   "source": [
    "user_index = 0\n",
    "top_k = 5\n",
    "scores = pred[user_index]\n",
    "top_items_indices = np.argsort(scores)[::-1][:top_k]\n",
    "\n",
    "top_items_indices"
   ]
  },
  {
   "cell_type": "code",
   "execution_count": 85,
   "metadata": {},
   "outputs": [
    {
     "data": {
      "text/plain": [
       "array([1.33692207, 1.22818467, 1.22174479, 1.21632307, 1.21595238])"
      ]
     },
     "execution_count": 85,
     "metadata": {},
     "output_type": "execute_result"
    }
   ],
   "source": [
    "pred[0][([889, 1482,  354,  348,  308])]"
   ]
  },
  {
   "cell_type": "code",
   "execution_count": 48,
   "metadata": {},
   "outputs": [
    {
     "data": {
      "image/png": "[encoded data removed]",
      "text/plain": [
       "<Figure size 640x480 with 1 Axes>"
      ]
     },
     "metadata": {},
     "output_type": "display_data"
    }
   ],
   "source": [
    "# total_losses\n",
    "x_axis = np.arange(1,11)\n",
    "y_axis = total_losses\n",
    "plt.plot(x_axis, y_axis)\n",
    "plt.xlabel(\"iteration\")\n",
    "plt.title(\"total loss\")\n",
    "plt.show()"
   ]
  }
 ],
 "metadata": {
  "kernelspec": {
   "display_name": "labenv",
   "language": "python",
   "name": "python3"
  },
  "language_info": {
   "codemirror_mode": {
    "name": "ipython",
    "version": 3
   },
   "file_extension": ".py",
   "mimetype": "text/x-python",
   "name": "python",
   "nbconvert_exporter": "python",
   "pygments_lexer": "ipython3",
   "version": "3.10.9"
  }
 },
 "nbformat": 4,
 "nbformat_minor": 2
}
